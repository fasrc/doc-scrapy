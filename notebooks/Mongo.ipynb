{
 "cells": [
  {
   "cell_type": "code",
   "execution_count": 1,
   "metadata": {
    "collapsed": false,
    "deletable": true,
    "editable": true
   },
   "outputs": [
    {
     "name": "stdout",
     "output_type": "stream",
     "text": [
      "Requirement already satisfied (use --upgrade to upgrade): pymongo in /opt/conda/lib/python3.5/site-packages\r\n",
      "\u001b[33mYou are using pip version 8.1.2, however version 9.0.1 is available.\r\n",
      "You should consider upgrading via the 'pip install --upgrade pip' command.\u001b[0m\r\n"
     ]
    }
   ],
   "source": [
    "!pip install pymongo"
   ]
  },
  {
   "cell_type": "code",
   "execution_count": 2,
   "metadata": {
    "collapsed": true,
    "deletable": true,
    "editable": true
   },
   "outputs": [],
   "source": [
    "import pymongo\n",
    "\n",
    "c = pymongo.MongoClient('mongodb://mongodb:27017')\n",
    "db = c['public_wpdocs']\n",
    "fp = db['full_pages']"
   ]
  },
  {
   "cell_type": "code",
   "execution_count": 7,
   "metadata": {
    "collapsed": false,
    "deletable": true,
    "editable": true
   },
   "outputs": [],
   "source": [
    "litems = [dict(item=item['url'],\n",
    "               link=[x for x in item['links'] if 'https://' in x])\n",
    "          for item in fp.find()]"
   ]
  },
  {
   "cell_type": "code",
   "execution_count": 8,
   "metadata": {
    "collapsed": false,
    "deletable": true,
    "editable": true,
    "scrolled": false
   },
   "outputs": [
    {
     "name": "stdout",
     "output_type": "stream",
     "text": [
      "{   'item': 'https://www.rc.fas.harvard.edu/',\n",
      "    'link': [   'https://www.rc.fas.harvard.edu/resources/odyssey-architecture/',\n",
      "                'https://www.rc.fas.harvard.edu/partnerships/mghpcc/',\n",
      "                'https://www.rc.fas.harvard.edu/partnerships/aci-ref/',\n",
      "                'https://www.rc.fas.harvard.edu/partnerships/massachusetts-open-cloud-moc/',\n",
      "                'https://www.rc.fas.harvard.edu/partnerships/hcsph-bioinformatics-core-hbc/',\n",
      "                'https://www.rc.fas.harvard.edu/partnerships/xsede/',\n",
      "                'https://www.rc.fas.harvard.edu/partnerships/conte-center-at-harvard/',\n",
      "                'https://www.rc.fas.harvard.edu/partnerships/internet2/',\n",
      "                'https://www.rc.fas.harvard.edu/partnerships/green-it/',\n",
      "                'https://www.rc.fas.harvard.edu/odyssey/publications-citing-odyssey/',\n",
      "                'https://www.rc.fas.harvard.edu/services/instrument-sign-up/',\n",
      "                'https://www.rc.fas.harvard.edu/services/grant-support/',\n",
      "                'https://www.rc.fas.harvard.edu/services/hardware-software-and-storage-purchasing/',\n",
      "                'https://www.rc.fas.harvard.edu/rc-services/virtual-machines/',\n",
      "                'https://downloads.rc.fas.harvard.edu/',\n",
      "                'https://www.rc.fas.harvard.edu/resources/faq/',\n",
      "                'https://www.rc.fas.harvard.edu/resources/harvard-school-of-public-health/',\n",
      "                'https://www.rc.fas.harvard.edu/resources/odyssey-storage/',\n",
      "                'https://www.rc.fas.harvard.edu/resources/documentation/',\n",
      "                'https://www.rc.fas.harvard.edu/resources/support/',\n",
      "                'https://www.rc.fas.harvard.edu/resources/odyssey-quickstart-guide/',\n",
      "                'https://www.rc.fas.harvard.edu/resources/access-and-login/',\n",
      "                'https://www.rc.fas.harvard.edu/resources/running-jobs/',\n",
      "                'https://www.rc.fas.harvard.edu/resources/documentation/convenient-slurm-commands/',\n",
      "                'https://www.rc.fas.harvard.edu/resources/faq/fair-share/',\n",
      "                'https://www.rc.fas.harvard.edu/resources/documentation/software-on-odyssey/intro/',\n",
      "                'https://portal.rc.fas.harvard.edu/apps/modules',\n",
      "                'https://www.rc.fas.harvard.edu/resources/documentation/software/',\n",
      "                'https://www.rc.fas.harvard.edu/resources/documentation/software-on-odyssey/installing-software-yourself/',\n",
      "                'https://www.rc.fas.harvard.edu/resources/documentation/',\n",
      "                'https://www.rc.fas.harvard.edu/training/',\n",
      "                'https://www.rc.fas.harvard.edu/training/intro-to-unix/',\n",
      "                'https://www.rc.fas.harvard.edu/training/office-hours/',\n",
      "                'https://www.rc.fas.harvard.edu/training/parallel-computing-on-odyssey/',\n",
      "                'https://www.rc.fas.harvard.edu/training/training-materials/',\n",
      "                'https://www.rc.fas.harvard.edu/news-home/',\n",
      "                'https://www.rc.fas.harvard.edu/category/news/',\n",
      "                'https://www.rc.fas.harvard.edu/news-home/feature-stories/',\n",
      "                'https://rc.fas.harvard.edu/upcoming-events/',\n",
      "                'https://rc.fas.harvard.edu/events/',\n",
      "                'https://www.rc.fas.harvard.edu/category/blog/',\n",
      "                'https://secure.flickr.com/photos/fasrc/',\n",
      "                'https://vimeo.com/fasrc',\n",
      "                'https://www.rc.fas.harvard.edu/about/mission/',\n",
      "                'https://www.rc.fas.harvard.edu/about/people/',\n",
      "                'https://www.rc.fas.harvard.edu/about/profiles-delight/',\n",
      "                'https://www.rc.fas.harvard.edu/testimonials/',\n",
      "                'https://www.rc.fas.harvard.edu/about/attribution/',\n",
      "                'https://www.rc.fas.harvard.edu/about/contact/',\n",
      "                'https://eos.org/research-spotlights/new-models-explain-unexpected-magnitude-of-chinas-wenchuan-quake',\n",
      "                'https://twitter.com/fasrc',\n",
      "                'https://twitter.com/fasrc/statuses/851900994371956737',\n",
      "                'https://twitter.com/fasrc',\n",
      "                'https://www.rc.fas.harvard.edu/green-computing/',\n",
      "                'https://twitter.com/intent/tweet?in_reply_to=851900994371956737',\n",
      "                'https://twitter.com/intent/retweet?tweet_id=851900994371956737',\n",
      "                'https://twitter.com/intent/favorite?tweet_id=851900994371956737',\n",
      "                'https://twitter.com/fasrc',\n",
      "                'https://twitter.com/fasrc/statuses/842492888932081665',\n",
      "                'https://twitter.com/fasrc',\n",
      "                'https://twitter.com/intent/tweet?in_reply_to=842492888932081665',\n",
      "                'https://twitter.com/intent/retweet?tweet_id=842492888932081665',\n",
      "                'https://twitter.com/intent/favorite?tweet_id=842492888932081665',\n",
      "                'https://twitter.com/compchemguy',\n",
      "                'https://twitter.com/compchemguy/statuses/842432961958051840',\n",
      "                'https://twitter.com/compchemguy',\n",
      "                'https://twitter.com/i/web/status/842432961958051840',\n",
      "                'https://twitter.com/intent/tweet?in_reply_to=842432961958051840',\n",
      "                'https://twitter.com/intent/retweet?tweet_id=842432961958051840',\n",
      "                'https://twitter.com/intent/favorite?tweet_id=842432961958051840',\n",
      "                'https://www.rc.fas.harvard.edu/nese-storage/',\n",
      "                'https://www.rc.fas.harvard.edu/teaching-computers-to-identify-odors/',\n",
      "                'https://www.rc.fas.harvard.edu/redox-flow-battery/',\n",
      "                'https://www.rc.fas.harvard.edu/mghpcc-data-center-shutdown-517/',\n",
      "                'https://www.rc.fas.harvard.edu/news-home/feature-stories/iarpa-advanced-machine-learning-challenge/',\n",
      "                'https://www.rc.fas.harvard.edu/profiles-in-delight-scott-yockel/',\n",
      "                'https://www.rc.fas.harvard.edu/profiles-in-delight-mike-ethier/',\n",
      "                'https://www.rc.fas.harvard.edu/profiles-in-delight-john-noss/',\n",
      "                'https://www.rc.fas.harvard.edu/openmpi-update/',\n",
      "                'https://www.rc.fas.harvard.edu/profiles-delight-paul-edmon/',\n",
      "                'https://www.rc.fas.harvard.edu/profiles-delight-maggie-mcfee/',\n",
      "                'https://www.rc.fas.harvard.edu/rsvpmaker/hsph-data-management-2017-04-21/',\n",
      "                'https://www.rc.fas.harvard.edu/rsvpmaker/office-hours-wed-12-3pm-2017-4-26/',\n",
      "                'https://www.rc.fas.harvard.edu/rsvpmaker/office-hours-wed-12-3pm-2017-5-3/',\n",
      "                'https://www.rc.fas.harvard.edu/rsvpmaker/office-hours-wed-12-3pm-2017-5-10/',\n",
      "                'https://www.rc.fas.harvard.edu/rsvpmaker/hsph-parallel-job-workflows-on-odyssey-2017-05-11/',\n",
      "                'https://www.rc.fas.harvard.edu/rsvpmaker/office-hours-wed-12-3pm-2017-5-17/',\n",
      "                'https://www.rc.fas.harvard.edu/rsvpmaker/mghpcc-data-center-annual-power-shutdown-52317-2017-05-23/',\n",
      "                'https://www.rc.fas.harvard.edu/rsvpmaker/office-hours-wed-12-3pm-2017-5-24/',\n",
      "                'https://rc.fas.harvard.edu/upcoming-events/']}\n"
     ]
    }
   ],
   "source": [
    "import pprint\n",
    "pp = pprint.PrettyPrinter(indent=4)\n",
    "pp.pprint(litems[0])"
   ]
  },
  {
   "cell_type": "code",
   "execution_count": null,
   "metadata": {
    "collapsed": true,
    "deletable": true,
    "editable": true
   },
   "outputs": [],
   "source": []
  },
  {
   "cell_type": "code",
   "execution_count": null,
   "metadata": {
    "collapsed": true
   },
   "outputs": [],
   "source": []
  }
 ],
 "metadata": {
  "kernelspec": {
   "display_name": "Python 3",
   "language": "python",
   "name": "python3"
  },
  "language_info": {
   "codemirror_mode": {
    "name": "ipython",
    "version": 3
   },
   "file_extension": ".py",
   "mimetype": "text/x-python",
   "name": "python",
   "nbconvert_exporter": "python",
   "pygments_lexer": "ipython3",
   "version": "3.5.2"
  }
 },
 "nbformat": 4,
 "nbformat_minor": 2
}
